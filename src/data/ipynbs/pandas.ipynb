{
 "cells": [
  {
   "cell_type": "markdown",
   "metadata": {},
   "source": [
    "This is a blog about how to use pandas in python. Its a popular library used amongst data scientists these days.\n",
    "\n",
    "### What is pandas?\n",
    "\n",
    "Pandas is a fast, powerful, flexible and easy to use open source data analysis and manipulation tool,\n",
    "built on top of the Python programming language.\n",
    "\n",
    "### Installation instructions\n",
    "\n",
    "The next steps provides the easiest and recommended way to set up your environment to use pandas. Other installation options can be found in the advanced installation page.\n",
    "\n",
    "1. Download Anaconda for your operating system and the latest Python version, run the installer, and follow the steps. Please note:\n",
    "    * It is not needed (and discouraged) to install Anaconda as root or administrator.\n",
    "    * When asked if you wish to initialize Anaconda3, answer yes.\n",
    "    * Restart the terminal after completing the installation.\n",
    "\n",
    "Detailed instructions on how to install Anaconda can be found in the Anaconda documentation."
   ]
  }
 ],
 "metadata": {
  "kernelspec": {
   "display_name": "Python 3",
   "language": "python",
   "name": "python3"
  },
  "language_info": {
   "codemirror_mode": {
    "name": "ipython",
    "version": 3
   },
   "file_extension": ".py",
   "mimetype": "text/x-python",
   "name": "python",
   "nbconvert_exporter": "python",
   "pygments_lexer": "ipython3",
   "version": "3.8.5"
  }
 },
 "nbformat": 4,
 "nbformat_minor": 4
}
